{
 "cells": [
  {
   "cell_type": "code",
   "execution_count": 1,
   "metadata": {},
   "outputs": [],
   "source": [
    "import numpy as np\n",
    "import pandas as pd"
   ]
  },
  {
   "cell_type": "code",
   "execution_count": 2,
   "metadata": {},
   "outputs": [],
   "source": [
    "import os\n",
    "import requests\n",
    "\n",
    "\n",
    "def download(url: str, dest_folder: str):\n",
    "    if not os.path.exists(dest_folder):\n",
    "        os.makedirs(dest_folder)  # create folder if it does not exist\n",
    "\n",
    "    filename = url.split('/')[-1].replace(\" \", \"_\")  # be careful with file names\n",
    "    file_path = os.path.join(dest_folder, filename)\n",
    "\n",
    "    r = requests.get(url, stream=True)\n",
    "    if r.ok:\n",
    "        print(\"saving to\", os.path.abspath(file_path))\n",
    "        with open(file_path, 'wb') as f:\n",
    "            for chunk in r.iter_content(chunk_size=1024 * 8):\n",
    "                if chunk:\n",
    "                    f.write(chunk)\n",
    "                    f.flush()\n",
    "                    os.fsync(f.fileno())\n",
    "    else:  # HTTP status code 4XX/5XX\n",
    "        print(\"Download failed: status code {}\\n{}\".format(r.status_code, r.text))\n"
   ]
  },
  {
   "cell_type": "code",
   "execution_count": 3,
   "metadata": {},
   "outputs": [
    {
     "data": {
      "text/html": [
       "<div>\n",
       "<style scoped>\n",
       "    .dataframe tbody tr th:only-of-type {\n",
       "        vertical-align: middle;\n",
       "    }\n",
       "\n",
       "    .dataframe tbody tr th {\n",
       "        vertical-align: top;\n",
       "    }\n",
       "\n",
       "    .dataframe thead th {\n",
       "        text-align: right;\n",
       "    }\n",
       "</style>\n",
       "<table border=\"1\" class=\"dataframe\">\n",
       "  <thead>\n",
       "    <tr style=\"text-align: right;\">\n",
       "      <th></th>\n",
       "      <th>ImageID</th>\n",
       "      <th>Subset</th>\n",
       "      <th>OriginalURL</th>\n",
       "      <th>OriginalLandingURL</th>\n",
       "      <th>License</th>\n",
       "      <th>AuthorProfileURL</th>\n",
       "      <th>Author</th>\n",
       "      <th>Title</th>\n",
       "      <th>OriginalSize</th>\n",
       "      <th>OriginalMD5</th>\n",
       "      <th>Thumbnail300KURL</th>\n",
       "    </tr>\n",
       "  </thead>\n",
       "  <tbody>\n",
       "    <tr>\n",
       "      <th>0</th>\n",
       "      <td>000026e7ee790996</td>\n",
       "      <td>validation</td>\n",
       "      <td>https://farm7.staticflickr.com/5769/2109480371...</td>\n",
       "      <td>https://www.flickr.com/photos/132646954@N02/21...</td>\n",
       "      <td>https://creativecommons.org/licenses/by/2.0/</td>\n",
       "      <td>https://www.flickr.com/people/132646954@N02/</td>\n",
       "      <td>dronepicr</td>\n",
       "      <td>Chichen Itza Mexico</td>\n",
       "      <td>7825604</td>\n",
       "      <td>EEGQ0ZQ/OxJAIGzfJ6LMvw==</td>\n",
       "      <td>https://c1.staticflickr.com/6/5769/21094803716...</td>\n",
       "    </tr>\n",
       "    <tr>\n",
       "      <th>1</th>\n",
       "      <td>000062a39995e348</td>\n",
       "      <td>validation</td>\n",
       "      <td>https://c1.staticflickr.com/4/3743/11539980784...</td>\n",
       "      <td>https://www.flickr.com/photos/deniwlp84/115399...</td>\n",
       "      <td>https://creativecommons.org/licenses/by/2.0/</td>\n",
       "      <td>https://www.flickr.com/people/deniwlp84/</td>\n",
       "      <td>Deni Williams</td>\n",
       "      <td>Parque Zoológico de São Paulo / Sao Paulo Zoo</td>\n",
       "      <td>4227077</td>\n",
       "      <td>oc+H0KgW0sxyEgAlfOiQDQ==</td>\n",
       "      <td>https://c3.staticflickr.com/4/3743/11539980784...</td>\n",
       "    </tr>\n",
       "    <tr>\n",
       "      <th>2</th>\n",
       "      <td>0000c64e1253d68f</td>\n",
       "      <td>validation</td>\n",
       "      <td>https://c8.staticflickr.com/7/6007/6010263871_...</td>\n",
       "      <td>https://www.flickr.com/photos/ladydragonflyher...</td>\n",
       "      <td>https://creativecommons.org/licenses/by/2.0/</td>\n",
       "      <td>https://www.flickr.com/people/ladydragonflyher...</td>\n",
       "      <td>LadyDragonflyCC - &amp;gt;;&amp;lt;</td>\n",
       "      <td>Redneck Figure 8's</td>\n",
       "      <td>1744183</td>\n",
       "      <td>Xufa/rhlOnBQSotR/8Gqhg==</td>\n",
       "      <td>https://c7.staticflickr.com/7/6007/6010263871_...</td>\n",
       "    </tr>\n",
       "    <tr>\n",
       "      <th>3</th>\n",
       "      <td>000132c20b84269b</td>\n",
       "      <td>validation</td>\n",
       "      <td>https://c4.staticflickr.com/9/8555/15625756039...</td>\n",
       "      <td>https://www.flickr.com/photos/ministeriodesalu...</td>\n",
       "      <td>https://creativecommons.org/licenses/by/2.0/</td>\n",
       "      <td>https://www.flickr.com/people/ministeriodesalu...</td>\n",
       "      <td>Ministerio de Salud de Neuquen</td>\n",
       "      <td>consultorio ecografia piedra del Aguila (4)</td>\n",
       "      <td>461828</td>\n",
       "      <td>uPw/ycB1skL/byjF0AYJKA==</td>\n",
       "      <td>https://c3.staticflickr.com/9/8555/15625756039...</td>\n",
       "    </tr>\n",
       "    <tr>\n",
       "      <th>4</th>\n",
       "      <td>0001eeaf4aed83f9</td>\n",
       "      <td>validation</td>\n",
       "      <td>https://c2.staticflickr.com/6/5606/15611395595...</td>\n",
       "      <td>https://www.flickr.com/photos/hisgett/15611395595</td>\n",
       "      <td>https://creativecommons.org/licenses/by/2.0/</td>\n",
       "      <td>https://www.flickr.com/people/hisgett/</td>\n",
       "      <td>Tony Hisgett</td>\n",
       "      <td>American Airlines Boeing 777-323(ER) N717AN</td>\n",
       "      <td>2038323</td>\n",
       "      <td>I4V4qq54NBEFDwBqPYCkDA==</td>\n",
       "      <td>https://c4.staticflickr.com/6/5606/15611395595...</td>\n",
       "    </tr>\n",
       "  </tbody>\n",
       "</table>\n",
       "</div>"
      ],
      "text/plain": [
       "            ImageID      Subset  \\\n",
       "0  000026e7ee790996  validation   \n",
       "1  000062a39995e348  validation   \n",
       "2  0000c64e1253d68f  validation   \n",
       "3  000132c20b84269b  validation   \n",
       "4  0001eeaf4aed83f9  validation   \n",
       "\n",
       "                                         OriginalURL  \\\n",
       "0  https://farm7.staticflickr.com/5769/2109480371...   \n",
       "1  https://c1.staticflickr.com/4/3743/11539980784...   \n",
       "2  https://c8.staticflickr.com/7/6007/6010263871_...   \n",
       "3  https://c4.staticflickr.com/9/8555/15625756039...   \n",
       "4  https://c2.staticflickr.com/6/5606/15611395595...   \n",
       "\n",
       "                                  OriginalLandingURL  \\\n",
       "0  https://www.flickr.com/photos/132646954@N02/21...   \n",
       "1  https://www.flickr.com/photos/deniwlp84/115399...   \n",
       "2  https://www.flickr.com/photos/ladydragonflyher...   \n",
       "3  https://www.flickr.com/photos/ministeriodesalu...   \n",
       "4  https://www.flickr.com/photos/hisgett/15611395595   \n",
       "\n",
       "                                        License  \\\n",
       "0  https://creativecommons.org/licenses/by/2.0/   \n",
       "1  https://creativecommons.org/licenses/by/2.0/   \n",
       "2  https://creativecommons.org/licenses/by/2.0/   \n",
       "3  https://creativecommons.org/licenses/by/2.0/   \n",
       "4  https://creativecommons.org/licenses/by/2.0/   \n",
       "\n",
       "                                    AuthorProfileURL  \\\n",
       "0       https://www.flickr.com/people/132646954@N02/   \n",
       "1           https://www.flickr.com/people/deniwlp84/   \n",
       "2  https://www.flickr.com/people/ladydragonflyher...   \n",
       "3  https://www.flickr.com/people/ministeriodesalu...   \n",
       "4             https://www.flickr.com/people/hisgett/   \n",
       "\n",
       "                           Author  \\\n",
       "0                       dronepicr   \n",
       "1                   Deni Williams   \n",
       "2     LadyDragonflyCC - &gt;;&lt;   \n",
       "3  Ministerio de Salud de Neuquen   \n",
       "4                    Tony Hisgett   \n",
       "\n",
       "                                           Title  OriginalSize  \\\n",
       "0                            Chichen Itza Mexico       7825604   \n",
       "1  Parque Zoológico de São Paulo / Sao Paulo Zoo       4227077   \n",
       "2                             Redneck Figure 8's       1744183   \n",
       "3    consultorio ecografia piedra del Aguila (4)        461828   \n",
       "4    American Airlines Boeing 777-323(ER) N717AN       2038323   \n",
       "\n",
       "                OriginalMD5                                   Thumbnail300KURL  \n",
       "0  EEGQ0ZQ/OxJAIGzfJ6LMvw==  https://c1.staticflickr.com/6/5769/21094803716...  \n",
       "1  oc+H0KgW0sxyEgAlfOiQDQ==  https://c3.staticflickr.com/4/3743/11539980784...  \n",
       "2  Xufa/rhlOnBQSotR/8Gqhg==  https://c7.staticflickr.com/7/6007/6010263871_...  \n",
       "3  uPw/ycB1skL/byjF0AYJKA==  https://c3.staticflickr.com/9/8555/15625756039...  \n",
       "4  I4V4qq54NBEFDwBqPYCkDA==  https://c4.staticflickr.com/6/5606/15611395595...  "
      ]
     },
     "execution_count": 3,
     "metadata": {},
     "output_type": "execute_result"
    }
   ],
   "source": [
    "data = pd.read_csv(\"/home/nguu0123/Downloads/images_2016_08_v5/images_2016_08/validation/images.csv\")\n",
    "data['ImageID'] = data['ImageID'].astype(str)\n",
    "data.head()"
   ]
  },
  {
   "cell_type": "code",
   "execution_count": 4,
   "metadata": {},
   "outputs": [
    {
     "data": {
      "text/plain": [
       "'https://c7.staticflickr.com/7/6007/6010263871_df93fb6382_z.jpg'"
      ]
     },
     "execution_count": 4,
     "metadata": {},
     "output_type": "execute_result"
    }
   ],
   "source": [
    "data[\"Thumbnail300KURL\"][2]"
   ]
  },
  {
   "cell_type": "code",
   "execution_count": 5,
   "metadata": {},
   "outputs": [
    {
     "data": {
      "text/html": [
       "<div>\n",
       "<style scoped>\n",
       "    .dataframe tbody tr th:only-of-type {\n",
       "        vertical-align: middle;\n",
       "    }\n",
       "\n",
       "    .dataframe tbody tr th {\n",
       "        vertical-align: top;\n",
       "    }\n",
       "\n",
       "    .dataframe thead th {\n",
       "        text-align: right;\n",
       "    }\n",
       "</style>\n",
       "<table border=\"1\" class=\"dataframe\">\n",
       "  <thead>\n",
       "    <tr style=\"text-align: right;\">\n",
       "      <th></th>\n",
       "      <th>ImageID</th>\n",
       "      <th>Source</th>\n",
       "      <th>LabelName</th>\n",
       "      <th>Confidence</th>\n",
       "      <th>Label</th>\n",
       "    </tr>\n",
       "  </thead>\n",
       "  <tbody>\n",
       "    <tr>\n",
       "      <th>0</th>\n",
       "      <td>000026e7ee790996</td>\n",
       "      <td>human</td>\n",
       "      <td>/m/01cbzq</td>\n",
       "      <td>1.0</td>\n",
       "      <td>rock</td>\n",
       "    </tr>\n",
       "    <tr>\n",
       "      <th>1</th>\n",
       "      <td>0047528a9aac4cc5</td>\n",
       "      <td>human</td>\n",
       "      <td>/m/01cbzq</td>\n",
       "      <td>1.0</td>\n",
       "      <td>rock</td>\n",
       "    </tr>\n",
       "    <tr>\n",
       "      <th>2</th>\n",
       "      <td>0053092bf2b1d957</td>\n",
       "      <td>human</td>\n",
       "      <td>/m/01cbzq</td>\n",
       "      <td>1.0</td>\n",
       "      <td>rock</td>\n",
       "    </tr>\n",
       "    <tr>\n",
       "      <th>3</th>\n",
       "      <td>00627adda9a83f9d</td>\n",
       "      <td>human</td>\n",
       "      <td>/m/01cbzq</td>\n",
       "      <td>1.0</td>\n",
       "      <td>rock</td>\n",
       "    </tr>\n",
       "    <tr>\n",
       "      <th>4</th>\n",
       "      <td>00703ba8b466d2ad</td>\n",
       "      <td>human</td>\n",
       "      <td>/m/01cbzq</td>\n",
       "      <td>1.0</td>\n",
       "      <td>rock</td>\n",
       "    </tr>\n",
       "  </tbody>\n",
       "</table>\n",
       "</div>"
      ],
      "text/plain": [
       "            ImageID Source  LabelName  Confidence Label\n",
       "0  000026e7ee790996  human  /m/01cbzq         1.0  rock\n",
       "1  0047528a9aac4cc5  human  /m/01cbzq         1.0  rock\n",
       "2  0053092bf2b1d957  human  /m/01cbzq         1.0  rock\n",
       "3  00627adda9a83f9d  human  /m/01cbzq         1.0  rock\n",
       "4  00703ba8b466d2ad  human  /m/01cbzq         1.0  rock"
      ]
     },
     "execution_count": 5,
     "metadata": {},
     "output_type": "execute_result"
    }
   ],
   "source": [
    "label = pd.read_csv(\"/home/nguu0123/Downloads/human_ann_2016_08_v3/human_ann_2016_08/validation/labels.csv\")\n",
    "label_name = pd.read_csv(\"/home/nguu0123/Downloads/human_ann_2016_08_v3/human_ann_2016_08/validation/dict.csv\", names=['LabelName','Label'])\n",
    "label = label.merge(label_name, on='LabelName', how='inner')\n",
    "label.head()"
   ]
  },
  {
   "cell_type": "code",
   "execution_count": 6,
   "metadata": {},
   "outputs": [],
   "source": [
    "label['ImageID'] = label['ImageID'].astype(str)"
   ]
  },
  {
   "cell_type": "code",
   "execution_count": 7,
   "metadata": {},
   "outputs": [],
   "source": [
    "data_with_label = data.merge(label, on='ImageID', how='inner')\n",
    "data_with_label = data_with_label[['ImageID','Thumbnail300KURL','Source','Label','Confidence']]"
   ]
  },
  {
   "cell_type": "code",
   "execution_count": 8,
   "metadata": {},
   "outputs": [
    {
     "name": "stdout",
     "output_type": "stream",
     "text": [
      "8706920\n",
      "8426810\n"
     ]
    }
   ],
   "source": [
    "print(data_with_label.size)\n",
    "data_with_label = data_with_label[data_with_label['Thumbnail300KURL'].notnull()]\n",
    "print(data_with_label.size)"
   ]
  },
  {
   "cell_type": "code",
   "execution_count": null,
   "metadata": {},
   "outputs": [],
   "source": []
  },
  {
   "cell_type": "code",
   "execution_count": 33,
   "metadata": {},
   "outputs": [
    {
     "data": {
      "text/plain": [
       "'258460789_c4baeb300a_z'"
      ]
     },
     "execution_count": 33,
     "metadata": {},
     "output_type": "execute_result"
    }
   ],
   "source": [
    "data = data_with_label[data_with_label['Label'] == 'cat']['Thumbnail300KURL'].iloc[5]\n",
    "data[data.rfind('/') + 1: data.rfind('.')]\n"
   ]
  },
  {
   "cell_type": "code",
   "execution_count": null,
   "metadata": {},
   "outputs": [],
   "source": [
    "# yolo_class = ['cat','dog','vehicle','bicycle','person']\n",
    "# for cur_class in yolo_class:\n",
    "#     data = data_with_label[data_with_label['Label'] == cur_class]\n",
    "#     for i in range(100):\n",
    "#         download(data['Thumbnail300KURL'].iloc[i], cur_class) "
   ]
  },
  {
   "cell_type": "code",
   "execution_count": 47,
   "metadata": {},
   "outputs": [],
   "source": [
    "# path = os.getcwd()\n",
    "# for cur_class in yolo_class:\n",
    "#     cur_path = path + '/' + cur_class\n",
    "#     files = os.listdir(cur_path)\n",
    "#     os.chdir(cur_path)\n",
    "#     for file in files:\n",
    "#         if('?' in file):\n",
    "#             os.rename(file, file[:file.index('?')])"
   ]
  },
  {
   "cell_type": "code",
   "execution_count": 1,
   "metadata": {},
   "outputs": [
    {
     "name": "stderr",
     "output_type": "stream",
     "text": [
      "YOLOv5 🚀 v7.0-72-g064365d Python-3.9.15 torch-1.13.1+cu117 CUDA:0 (NVIDIA GeForce RTX 3070, 7960MiB)\n",
      "\n",
      "Fusing layers... \n",
      "YOLOv5s summary: 213 layers, 7225885 parameters, 0 gradients\n",
      "Adding AutoShape... \n"
     ]
    }
   ],
   "source": [
    "from yolov8.yolov8 import Yolo8\n",
    "from yolov5.yolov5 import Yolo5\n",
    "import numpy as np\n",
    "import os\n",
    "yolov5 = Yolo5(\"yolov5s\")\n",
    "yolov8 = Yolo8(\"yolov8n\")"
   ]
  },
  {
   "cell_type": "code",
   "execution_count": 2,
   "metadata": {},
   "outputs": [],
   "source": [
    "import cv2\n",
    "def enhance_image(image):\n",
    "    kernel = np.array([[0, -1, 0],\n",
    "                   [-1, 5,-1],\n",
    "                   [0, -1, 0]])\n",
    "    enhanced_im = cv2.filter2D(src=image, ddepth=-1, kernel=kernel)\n",
    "    return enhanced_im\n",
    "def get_prediction(list_pre, i):\n",
    "    pre_item = list_pre[i]\n",
    "    keys = list(pre_item.keys())\n",
    "    return pre_item[keys[0]]\n",
    "def extract_dict(dict, keys):\n",
    "    result = {}\n",
    "    for key in keys:\n",
    "        result[key] = dict[key]\n",
    "    return result\n",
    "def not_approximate(a,b):\n",
    "    if abs(a-b)< 10:\n",
    "        return False\n",
    "    else: \n",
    "        return True\n",
    "\n",
    "def compare_box(box1, box2):\n",
    "    for key in box1:\n",
    "        if not_approximate(box1[key], box2[key]):\n",
    "            return False\n",
    "    return True\n",
    "\n",
    "def agg_mean(predict_list):\n",
    "    merged_dict = predict_list[0]\n",
    "    for i in range(1,len(predict_list)):\n",
    "        for key in predict_list[i]:\n",
    "            if key not in merged_dict:\n",
    "                merged_dict[key] = predict_list[i][key]\n",
    "            else:\n",
    "                merged_dict[key] += predict_list[i][key]\n",
    "    for key in merged_dict:\n",
    "        merged_dict[key] /=  len(predict_list)\n",
    "    return merged_dict\n",
    "\n",
    "def agg_max(predictions):\n",
    "    pre_list = []\n",
    "    agg_prediction = []\n",
    "    object_count = 0\n",
    "    for key in predictions:\n",
    "        pre_list += predictions[key]\n",
    "    while pre_list:\n",
    "        pre_item = get_prediction(pre_list,0)\n",
    "        box1 = extract_dict(pre_item[0],[\"xmin\", \"ymin\", \"xmax\", \"ymax\"])\n",
    "        duplicate = []\n",
    "        for i in range(1,len(pre_list)):\n",
    "            box2 = extract_dict(get_prediction(pre_list,i)[0],[\"xmin\", \"ymin\", \"xmax\", \"ymax\"])\n",
    "            if compare_box(box1,box2):\n",
    "                pre_item += get_prediction(pre_list,i)\n",
    "                duplicate.append(i)\n",
    "        for item in duplicate:\n",
    "            pre_list.pop(item)\n",
    "        max_item = pre_item[0]\n",
    "        for item in pre_item:\n",
    "            if item[\"confidence\"] > max_item[\"confidence\"]:\n",
    "                max_item = item\n",
    "        detect_obj = {f\"object_{object_count}\":max_item}\n",
    "        pre_list.pop(0)\n",
    "        object_count += 1\n",
    "        agg_prediction.append(detect_obj)\n",
    "    return agg_prediction\n",
    "    "
   ]
  },
  {
   "cell_type": "code",
   "execution_count": 4,
   "metadata": {},
   "outputs": [
    {
     "name": "stderr",
     "output_type": "stream",
     "text": [
      "Ultralytics YOLOv8.0.25 🚀 Python-3.9.15 torch-1.13.1+cu117 CUDA:0 (NVIDIA GeForce RTX 3070, 7960MiB)\n",
      "YOLOv8n summary (fused): 168 layers, 3151904 parameters, 0 gradients, 8.7 GFLOPs\n"
     ]
    },
    {
     "name": "stdout",
     "output_type": "stream",
     "text": [
      "cat\n",
      "yolov5 confidence 0.5109227895736694 true detect 60 false detect 15\n",
      "yolov8 confidence 0.7363022177718407 true detect 77 false detect 9\n",
      "dog\n",
      "yolov5 confidence 0.5719827995242843 true detect 48 false detect 35\n",
      "yolov8 confidence 0.6582733710388561 true detect 49 false detect 42\n",
      "car\n",
      "yolov5 confidence 0.6790541684941241 true detect 38 false detect 38\n",
      "yolov8 confidence 0.697952942877281 true detect 35 false detect 47\n",
      "bicycle\n",
      "yolov5 confidence 0.6327341339167427 true detect 30 false detect 55\n",
      "yolov8 confidence 0.7514804361096348 true detect 39 false detect 44\n",
      "person\n",
      "yolov5 confidence 0.7052051137233603 true detect 81 false detect 6\n",
      "yolov8 confidence 0.8146213729950514 true detect 83 false detect 5\n"
     ]
    }
   ],
   "source": [
    "object_class = ['cat','dog','car','bicycle','person']\n",
    "for cur_class in object_class:\n",
    "     path = os.getcwd() + '/images/' + cur_class\n",
    "     files = os.listdir(path)\n",
    "     yolo5_confidence = []\n",
    "     yolo8_confidence = []\n",
    "     yolo5_true  = 0\n",
    "     yolo5_false = 0\n",
    "     yolo8_true  = 0\n",
    "     yolo8_false = 0\n",
    "     i = 0\n",
    "     for file in files:\n",
    "         image = cv2.imread(path + '/' + file)\n",
    "         en_im = enhance_image(image)\n",
    "         result_yolo5 = yolov5.yolov5_inference(en_im)\n",
    "         if result_yolo5 is not None:\n",
    "             for cur_object in result_yolo5[0]['yolov5s'][0]:\n",
    "                 data = result_yolo5[0]['yolov5s'][0][cur_object][0]\n",
    "                 if data['name'] == cur_class:\n",
    "                     yolo5_true +=1\n",
    "                 else:\n",
    "                     yolo5_false += 1\n",
    "                 yolo5_confidence.append(data['confidence'])\n",
    "         result_yolo8 = yolov8.yolov8_inference(en_im)\n",
    "         if result_yolo8[0]['yolov8n'] != []:\n",
    "             for cur_object in result_yolo8[0]['yolov8n'][0]:\n",
    "                 data = result_yolo8[0]['yolov8n'][0][cur_object][0]\n",
    "                 if data['name'] == cur_class:\n",
    "                     yolo8_true +=1\n",
    "                 else:\n",
    "                     yolo8_false += 1\n",
    "                 yolo8_confidence.append(data['confidence'])\n",
    "     print(cur_class)\n",
    "     print('yolov5 confidence {} true detect {} false detect {}'.format(np.average(yolo5_confidence), yolo5_true, yolo5_false))\n",
    "     print('yolov8 confidence {} true detect {} false detect {}'.format(np.average(yolo8_confidence), yolo8_true, yolo8_false))\n"
   ]
  }
 ],
 "metadata": {
  "kernelspec": {
   "display_name": "base",
   "language": "python",
   "name": "python3"
  },
  "language_info": {
   "codemirror_mode": {
    "name": "ipython",
    "version": 3
   },
   "file_extension": ".py",
   "mimetype": "text/x-python",
   "name": "python",
   "nbconvert_exporter": "python",
   "pygments_lexer": "ipython3",
   "version": "3.9.15"
  },
  "orig_nbformat": 4,
  "vscode": {
   "interpreter": {
    "hash": "067f9426a8b6842f0df887cb3113c2615b17e4966b28314b1f1f82ac8992a99a"
   }
  }
 },
 "nbformat": 4,
 "nbformat_minor": 2
}
