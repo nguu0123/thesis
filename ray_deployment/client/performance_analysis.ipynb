{
 "cells": [
  {
   "cell_type": "code",
   "execution_count": 2,
   "metadata": {},
   "outputs": [],
   "source": [
    "import numpy as np\n",
    "import pandas as pd\n",
    "import seaborn as sns\n",
    "import matplotlib.pyplot as plt\n",
    "sns.set_palette(\"muted\")"
   ]
  },
  {
   "cell_type": "code",
   "execution_count": 3,
   "metadata": {},
   "outputs": [],
   "source": [
    "# import psycopg\n",
    "# import json\n",
    "# config = (\n",
    "#         \"user=nguu0123 password=nguu0123456 host=172.17.0.2 port=5432 dbname=nguu0123\"\n",
    "#     )\n",
    "# connection = psycopg.connect(config, autocommit=True)\n",
    "# cursor = connection.cursor()\n",
    "# cursor.execute(\"\"\" \n",
    "# select assessdataquality.requestid, dataqualityreport.value from dataqualityreport\n",
    "# inner join wasgeneratedby on wasgeneratedby.entityid = dataqualityreport.id\n",
    "# inner join assessdataquality on wasgeneratedby.activityid = assessdataquality.id\n",
    "# \"\"\")\n",
    "# data = cursor.fetchall()"
   ]
  },
  {
   "cell_type": "code",
   "execution_count": 4,
   "metadata": {},
   "outputs": [],
   "source": [
    "# import psycopg\n",
    "# import json\n",
    "# config = (\n",
    "#         \"user=nguu0123 password=nguu0123456 host=172.17.0.3 port=5432 dbname=nguu0123\"\n",
    "#     )\n",
    "# connection = psycopg.connect(config, autocommit=True)\n",
    "# cursor = connection.cursor()\n",
    "# cursor.execute(\"\"\" \n",
    "# select * from predictionquality\n",
    "# \"\"\")\n",
    "# data = cursor.fetchall()\n"
   ]
  },
  {
   "cell_type": "code",
   "execution_count": 12,
   "metadata": {},
   "outputs": [],
   "source": [
    "path = '/home/nguu0123/git/thesis/ray_deployment/logs/'\n",
    "accuracy_05_cpu = pd.read_csv(path + 'accuracy_with_0.5_cpu.csv', names=[\"image id\", \"response time\", \"correctly detect\", \"true class\"], skiprows=50)\n",
    "accuracy_1_cpu = pd.read_csv(path + 'accuracy_with_1_cpu.csv', names=[\"image id\", \"response time\", \"correctly detect\", \"true class\"], skiprows=50)\n",
    "accuracy_2_cpu = pd.read_csv(path + 'accuracy_with_2_cpu.csv', names=[\"image id\", \"response time\", \"correctly detect\", \"true class\"], skiprows=50)\n",
    "accuracy_4_cpu = pd.read_csv(path + 'accuracy_with_4_cpu.csv', names=[\"image id\", \"response time\", \"correctly detect\", \"true class\"], skiprows=50)\n",
    "accuracy_7_cpu = pd.read_csv(path + 'accuracy_with_7_cpu.csv', names=[\"image id\", \"response time\", \"correctly detect\", \"true class\"], skiprows=50)\n",
    "accuracy_without_noise = pd.read_csv(path + 'accuracy_without_noise.csv', names=[\"image id\", \"model\", \"correctly detect\", \"true class\"], skiprows=50)\n",
    "accuracy_with_bright = pd.read_csv(path + 'accuracy_with_bright.csv', names=[\"image id\", \"model\", \"correctly detect\", \"true class\"], skiprows=50)\n",
    "accuracy_with_noise_09 = pd.read_csv(path + 'accuracy_with_noise_09.csv', names=[\"image id\", \"model\", \"correctly detect\", \"true class\"], skiprows=50)\n",
    "accuracy_with_noise_06 = pd.read_csv(path + 'accuracy_with_noise_06.csv', names=[\"image id\", \"model\", \"correctly detect\", \"true class\"], skiprows=50)\n",
    "accuracy_with_noise_04 = pd.read_csv(path + 'accuracy_with_noise_04.csv', names=[\"image id\", \"model\", \"correctly detect\", \"true class\"], skiprows=50)\n",
    "mean_accuracy_with_bright = pd.read_csv(path + 'mean_accuracy_with_bright.csv', names=[\"image id\", \"model\", \"correctly detect\", \"true class\"], skiprows=50)\n",
    "mean_accuracy_with_bright_n_version = pd.read_csv(path + 'mean_accuracy_with_bright_n_version.csv', names=[\"image id\", \"model\", \"correctly detect\", \"true class\"], skiprows=50)"
   ]
  },
  {
   "cell_type": "code",
   "execution_count": null,
   "metadata": {},
   "outputs": [],
   "source": []
  },
  {
   "cell_type": "code",
   "execution_count": 13,
   "metadata": {},
   "outputs": [
    {
     "name": "stdout",
     "output_type": "stream",
     "text": [
      "yolov5n \n",
      "             correctly detect\n",
      "true class                  \n",
      "bicycle             0.459596\n",
      "car                 0.285000\n",
      "cat                 0.100000\n",
      "dog                 0.092166\n",
      "person              0.719577 \n",
      "\n",
      "yolov8n \n",
      "             correctly detect\n",
      "true class                  \n",
      "bicycle             0.671717\n",
      "car                 0.650000\n",
      "cat                 0.605556\n",
      "dog                 0.488479\n",
      "person              0.883598 \n",
      "\n",
      "aggregated \n",
      "             correctly detect\n",
      "true class                  \n",
      "bicycle             0.675127\n",
      "car                 0.650000\n",
      "cat                 0.605556\n",
      "dog                 0.511521\n",
      "person              0.899471 \n",
      "\n"
     ]
    },
    {
     "name": "stderr",
     "output_type": "stream",
     "text": [
      "/tmp/ipykernel_109699/3578784061.py:2: FutureWarning: The default value of numeric_only in DataFrameGroupBy.mean is deprecated. In a future version, numeric_only will default to False. Either specify numeric_only or select only columns which should be valid for the function.\n",
      "  print(model, '\\n', mean_accuracy_with_bright_n_version[mean_accuracy_with_bright_n_version[\"model\"] == model].groupby(\"true class\").mean(), '\\n')\n",
      "/tmp/ipykernel_109699/3578784061.py:2: FutureWarning: The default value of numeric_only in DataFrameGroupBy.mean is deprecated. In a future version, numeric_only will default to False. Either specify numeric_only or select only columns which should be valid for the function.\n",
      "  print(model, '\\n', mean_accuracy_with_bright_n_version[mean_accuracy_with_bright_n_version[\"model\"] == model].groupby(\"true class\").mean(), '\\n')\n",
      "/tmp/ipykernel_109699/3578784061.py:2: FutureWarning: The default value of numeric_only in DataFrameGroupBy.mean is deprecated. In a future version, numeric_only will default to False. Either specify numeric_only or select only columns which should be valid for the function.\n",
      "  print(model, '\\n', mean_accuracy_with_bright_n_version[mean_accuracy_with_bright_n_version[\"model\"] == model].groupby(\"true class\").mean(), '\\n')\n"
     ]
    }
   ],
   "source": [
    "for model in mean_accuracy_with_bright_n_version[\"model\"].unique():\n",
    "    print(model, '\\n', mean_accuracy_with_bright_n_version[mean_accuracy_with_bright_n_version[\"model\"] == model].groupby(\"true class\").mean(), '\\n')"
   ]
  },
  {
   "cell_type": "code",
   "execution_count": 11,
   "metadata": {},
   "outputs": [
    {
     "name": "stdout",
     "output_type": "stream",
     "text": [
      "yolov5s \n",
      "             correctly detect\n",
      "true class                  \n",
      "bicycle             0.497817\n",
      "car                 0.665025\n",
      "cat                 0.433673\n",
      "dog                 0.361386\n",
      "person              0.819328 \n",
      "\n",
      "yolov8s \n",
      "             correctly detect\n",
      "true class                  \n",
      "bicycle             0.737991\n",
      "car                 0.758621\n",
      "cat                 0.821429\n",
      "dog                 0.564356\n",
      "person              0.907563 \n",
      "\n",
      "aggregated \n",
      "             correctly detect\n",
      "true class                  \n",
      "bicycle             0.781659\n",
      "car                 0.847291\n",
      "cat                 0.836735\n",
      "dog                 0.636816\n",
      "person              0.907563 \n",
      "\n"
     ]
    },
    {
     "name": "stderr",
     "output_type": "stream",
     "text": [
      "/tmp/ipykernel_109699/2463014630.py:2: FutureWarning: The default value of numeric_only in DataFrameGroupBy.mean is deprecated. In a future version, numeric_only will default to False. Either specify numeric_only or select only columns which should be valid for the function.\n",
      "  print(model, '\\n', mean_accuracy_with_bright[mean_accuracy_with_bright[\"model\"] == model].groupby(\"true class\").mean(), '\\n')\n",
      "/tmp/ipykernel_109699/2463014630.py:2: FutureWarning: The default value of numeric_only in DataFrameGroupBy.mean is deprecated. In a future version, numeric_only will default to False. Either specify numeric_only or select only columns which should be valid for the function.\n",
      "  print(model, '\\n', mean_accuracy_with_bright[mean_accuracy_with_bright[\"model\"] == model].groupby(\"true class\").mean(), '\\n')\n",
      "/tmp/ipykernel_109699/2463014630.py:2: FutureWarning: The default value of numeric_only in DataFrameGroupBy.mean is deprecated. In a future version, numeric_only will default to False. Either specify numeric_only or select only columns which should be valid for the function.\n",
      "  print(model, '\\n', mean_accuracy_with_bright[mean_accuracy_with_bright[\"model\"] == model].groupby(\"true class\").mean(), '\\n')\n"
     ]
    }
   ],
   "source": [
    "for model in mean_accuracy_with_bright[\"model\"].unique():\n",
    "    print(model, '\\n', mean_accuracy_with_bright[mean_accuracy_with_bright[\"model\"] == model].groupby(\"true class\").mean(), '\\n')"
   ]
  },
  {
   "cell_type": "code",
   "execution_count": 6,
   "metadata": {},
   "outputs": [
    {
     "name": "stdout",
     "output_type": "stream",
     "text": [
      "yolov5n \n",
      "             correctly detect\n",
      "true class                  \n",
      "bicycle             0.014085\n",
      "car                 0.000000\n",
      "cat                 0.005181\n",
      "dog                 0.000000\n",
      "person              0.091892 \n",
      "\n",
      "yolov8n \n",
      "             correctly detect\n",
      "true class                  \n",
      "bicycle             0.000000\n",
      "car                 0.000000\n",
      "cat                 0.036269\n",
      "dog                 0.005102\n",
      "person              0.362162 \n",
      "\n",
      "aggregated \n",
      "             correctly detect\n",
      "true class                  \n",
      "bicycle             0.014085\n",
      "car                 0.000000\n",
      "cat                 0.036269\n",
      "dog                 0.005102\n",
      "person              0.369565 \n",
      "\n"
     ]
    },
    {
     "name": "stderr",
     "output_type": "stream",
     "text": [
      "/tmp/ipykernel_109699/2907361182.py:2: FutureWarning: The default value of numeric_only in DataFrameGroupBy.mean is deprecated. In a future version, numeric_only will default to False. Either specify numeric_only or select only columns which should be valid for the function.\n",
      "  print(model, '\\n', accuracy_with_noise_09[accuracy_with_noise_09[\"model\"] == model].groupby(\"true class\").mean(), '\\n')\n",
      "/tmp/ipykernel_109699/2907361182.py:2: FutureWarning: The default value of numeric_only in DataFrameGroupBy.mean is deprecated. In a future version, numeric_only will default to False. Either specify numeric_only or select only columns which should be valid for the function.\n",
      "  print(model, '\\n', accuracy_with_noise_09[accuracy_with_noise_09[\"model\"] == model].groupby(\"true class\").mean(), '\\n')\n",
      "/tmp/ipykernel_109699/2907361182.py:2: FutureWarning: The default value of numeric_only in DataFrameGroupBy.mean is deprecated. In a future version, numeric_only will default to False. Either specify numeric_only or select only columns which should be valid for the function.\n",
      "  print(model, '\\n', accuracy_with_noise_09[accuracy_with_noise_09[\"model\"] == model].groupby(\"true class\").mean(), '\\n')\n"
     ]
    }
   ],
   "source": [
    "for model in accuracy_with_noise_09[\"model\"].unique():\n",
    "    print(model, '\\n', accuracy_with_noise_09[accuracy_with_noise_09[\"model\"] == model].groupby(\"true class\").mean(), '\\n')"
   ]
  },
  {
   "cell_type": "code",
   "execution_count": 7,
   "metadata": {},
   "outputs": [
    {
     "name": "stdout",
     "output_type": "stream",
     "text": [
      "yolov5n \n",
      "             correctly detect\n",
      "true class                  \n",
      "bicycle             0.474820\n",
      "car                 0.484076\n",
      "cat                 0.165468\n",
      "dog                 0.323353\n",
      "person              0.748387 \n",
      "\n",
      "yolov8n \n",
      "             correctly detect\n",
      "true class                  \n",
      "bicycle             0.690647\n",
      "car                 0.681529\n",
      "cat                 0.726619\n",
      "dog                 0.670659\n",
      "person              0.903226 \n",
      "\n",
      "aggregated \n",
      "             correctly detect\n",
      "true class                  \n",
      "bicycle             0.726619\n",
      "car                 0.713376\n",
      "cat                 0.731884\n",
      "dog                 0.682635\n",
      "person              0.916129 \n",
      "\n"
     ]
    },
    {
     "name": "stderr",
     "output_type": "stream",
     "text": [
      "/tmp/ipykernel_109699/4262668867.py:2: FutureWarning: The default value of numeric_only in DataFrameGroupBy.mean is deprecated. In a future version, numeric_only will default to False. Either specify numeric_only or select only columns which should be valid for the function.\n",
      "  print(model, '\\n', accuracy_with_noise_06[accuracy_with_noise_06[\"model\"] == model].groupby(\"true class\").mean(), '\\n')\n",
      "/tmp/ipykernel_109699/4262668867.py:2: FutureWarning: The default value of numeric_only in DataFrameGroupBy.mean is deprecated. In a future version, numeric_only will default to False. Either specify numeric_only or select only columns which should be valid for the function.\n",
      "  print(model, '\\n', accuracy_with_noise_06[accuracy_with_noise_06[\"model\"] == model].groupby(\"true class\").mean(), '\\n')\n",
      "/tmp/ipykernel_109699/4262668867.py:2: FutureWarning: The default value of numeric_only in DataFrameGroupBy.mean is deprecated. In a future version, numeric_only will default to False. Either specify numeric_only or select only columns which should be valid for the function.\n",
      "  print(model, '\\n', accuracy_with_noise_06[accuracy_with_noise_06[\"model\"] == model].groupby(\"true class\").mean(), '\\n')\n"
     ]
    }
   ],
   "source": [
    "for model in accuracy_with_noise_06[\"model\"].unique():\n",
    "    print(model, '\\n', accuracy_with_noise_06[accuracy_with_noise_06[\"model\"] == model].groupby(\"true class\").mean(), '\\n')"
   ]
  },
  {
   "cell_type": "code",
   "execution_count": 8,
   "metadata": {},
   "outputs": [
    {
     "name": "stdout",
     "output_type": "stream",
     "text": [
      "yolov5n \n",
      "             correctly detect\n",
      "true class                  \n",
      "bicycle             0.556150\n",
      "car                 0.608696\n",
      "cat                 0.304721\n",
      "dog                 0.323171\n",
      "person              0.735751 \n",
      "\n",
      "yolov8n \n",
      "             correctly detect\n",
      "true class                  \n",
      "bicycle             0.679144\n",
      "car                 0.753623\n",
      "cat                 0.815451\n",
      "dog                 0.579268\n",
      "person              0.943005 \n",
      "\n",
      "aggregated \n",
      "             correctly detect\n",
      "true class                  \n",
      "bicycle             0.693548\n",
      "car                 0.792271\n",
      "cat                 0.828326\n",
      "dog                 0.621951\n",
      "person              0.943005 \n",
      "\n",
      "0.5831236839294434 \n",
      "             correctly detect\n",
      "true class                  \n",
      "bicycle                  0.0 \n",
      "\n"
     ]
    },
    {
     "name": "stderr",
     "output_type": "stream",
     "text": [
      "/tmp/ipykernel_109699/2154347774.py:2: FutureWarning: The default value of numeric_only in DataFrameGroupBy.mean is deprecated. In a future version, numeric_only will default to False. Either specify numeric_only or select only columns which should be valid for the function.\n",
      "  print(model, '\\n', accuracy_with_noise_04[accuracy_with_noise_04[\"model\"] == model].groupby(\"true class\").mean(), '\\n')\n",
      "/tmp/ipykernel_109699/2154347774.py:2: FutureWarning: The default value of numeric_only in DataFrameGroupBy.mean is deprecated. In a future version, numeric_only will default to False. Either specify numeric_only or select only columns which should be valid for the function.\n",
      "  print(model, '\\n', accuracy_with_noise_04[accuracy_with_noise_04[\"model\"] == model].groupby(\"true class\").mean(), '\\n')\n",
      "/tmp/ipykernel_109699/2154347774.py:2: FutureWarning: The default value of numeric_only in DataFrameGroupBy.mean is deprecated. In a future version, numeric_only will default to False. Either specify numeric_only or select only columns which should be valid for the function.\n",
      "  print(model, '\\n', accuracy_with_noise_04[accuracy_with_noise_04[\"model\"] == model].groupby(\"true class\").mean(), '\\n')\n",
      "/tmp/ipykernel_109699/2154347774.py:2: FutureWarning: The default value of numeric_only in DataFrameGroupBy.mean is deprecated. In a future version, numeric_only will default to False. Either specify numeric_only or select only columns which should be valid for the function.\n",
      "  print(model, '\\n', accuracy_with_noise_04[accuracy_with_noise_04[\"model\"] == model].groupby(\"true class\").mean(), '\\n')\n"
     ]
    }
   ],
   "source": [
    "for model in accuracy_with_noise_04[\"model\"].unique():\n",
    "    print(model, '\\n', accuracy_with_noise_04[accuracy_with_noise_04[\"model\"] == model].groupby(\"true class\").mean(), '\\n')"
   ]
  },
  {
   "cell_type": "code",
   "execution_count": 9,
   "metadata": {},
   "outputs": [
    {
     "name": "stdout",
     "output_type": "stream",
     "text": [
      "yolov5n \n",
      "             correctly detect\n",
      "true class                  \n",
      "bicycle             0.408654\n",
      "car                 0.441026\n",
      "cat                 0.192513\n",
      "dog                 0.130653\n",
      "person              0.784615 \n",
      "\n",
      "yolov8n \n",
      "             correctly detect\n",
      "true class                  \n",
      "bicycle             0.600962\n",
      "car                 0.748718\n",
      "cat                 0.893048\n",
      "dog                 0.663317\n",
      "person              0.953846 \n",
      "\n",
      "aggregated \n",
      "             correctly detect\n",
      "true class                  \n",
      "bicycle             0.600962\n",
      "car                 0.758974\n",
      "cat                 0.887701\n",
      "dog                 0.636364\n",
      "person              0.964103 \n",
      "\n"
     ]
    },
    {
     "name": "stderr",
     "output_type": "stream",
     "text": [
      "/tmp/ipykernel_109699/2559773824.py:2: FutureWarning: The default value of numeric_only in DataFrameGroupBy.mean is deprecated. In a future version, numeric_only will default to False. Either specify numeric_only or select only columns which should be valid for the function.\n",
      "  print(model, '\\n', accuracy_without_noise [accuracy_without_noise[\"model\"] == model].groupby(\"true class\").mean(), '\\n')\n",
      "/tmp/ipykernel_109699/2559773824.py:2: FutureWarning: The default value of numeric_only in DataFrameGroupBy.mean is deprecated. In a future version, numeric_only will default to False. Either specify numeric_only or select only columns which should be valid for the function.\n",
      "  print(model, '\\n', accuracy_without_noise [accuracy_without_noise[\"model\"] == model].groupby(\"true class\").mean(), '\\n')\n",
      "/tmp/ipykernel_109699/2559773824.py:2: FutureWarning: The default value of numeric_only in DataFrameGroupBy.mean is deprecated. In a future version, numeric_only will default to False. Either specify numeric_only or select only columns which should be valid for the function.\n",
      "  print(model, '\\n', accuracy_without_noise [accuracy_without_noise[\"model\"] == model].groupby(\"true class\").mean(), '\\n')\n"
     ]
    }
   ],
   "source": [
    "for model in accuracy_without_noise[\"model\"].unique():\n",
    "    print(model, '\\n', accuracy_without_noise [accuracy_without_noise[\"model\"] == model].groupby(\"true class\").mean(), '\\n')"
   ]
  },
  {
   "cell_type": "code",
   "execution_count": 10,
   "metadata": {},
   "outputs": [
    {
     "name": "stdout",
     "output_type": "stream",
     "text": [
      "yolov5n \n",
      "             correctly detect\n",
      "true class                  \n",
      "bicycle             0.440415\n",
      "car                 0.293785\n",
      "cat                 0.052885\n",
      "dog                 0.061224\n",
      "person              0.690476 \n",
      "\n",
      "yolov8n \n",
      "             correctly detect\n",
      "true class                  \n",
      "bicycle             0.647668\n",
      "car                 0.655367\n",
      "cat                 0.557692\n",
      "dog                 0.479592\n",
      "person              0.900000 \n",
      "\n",
      "aggregated \n",
      "             correctly detect\n",
      "true class                  \n",
      "bicycle             0.652850\n",
      "car                 0.655367\n",
      "cat                 0.557692\n",
      "dog                 0.479592\n",
      "person              0.913876 \n",
      "\n"
     ]
    },
    {
     "name": "stderr",
     "output_type": "stream",
     "text": [
      "/tmp/ipykernel_109699/603292153.py:2: FutureWarning: The default value of numeric_only in DataFrameGroupBy.mean is deprecated. In a future version, numeric_only will default to False. Either specify numeric_only or select only columns which should be valid for the function.\n",
      "  print(model, '\\n', accuracy_with_bright[accuracy_with_bright[\"model\"] == model].groupby(\"true class\").mean(), '\\n')\n",
      "/tmp/ipykernel_109699/603292153.py:2: FutureWarning: The default value of numeric_only in DataFrameGroupBy.mean is deprecated. In a future version, numeric_only will default to False. Either specify numeric_only or select only columns which should be valid for the function.\n",
      "  print(model, '\\n', accuracy_with_bright[accuracy_with_bright[\"model\"] == model].groupby(\"true class\").mean(), '\\n')\n",
      "/tmp/ipykernel_109699/603292153.py:2: FutureWarning: The default value of numeric_only in DataFrameGroupBy.mean is deprecated. In a future version, numeric_only will default to False. Either specify numeric_only or select only columns which should be valid for the function.\n",
      "  print(model, '\\n', accuracy_with_bright[accuracy_with_bright[\"model\"] == model].groupby(\"true class\").mean(), '\\n')\n"
     ]
    }
   ],
   "source": [
    "for model in accuracy_with_bright[\"model\"].unique():\n",
    "    print(model, '\\n', accuracy_with_bright[accuracy_with_bright[\"model\"] == model].groupby(\"true class\").mean(), '\\n')"
   ]
  }
 ],
 "metadata": {
  "kernelspec": {
   "display_name": "base",
   "language": "python",
   "name": "python3"
  },
  "language_info": {
   "codemirror_mode": {
    "name": "ipython",
    "version": 3
   },
   "file_extension": ".py",
   "mimetype": "text/x-python",
   "name": "python",
   "nbconvert_exporter": "python",
   "pygments_lexer": "ipython3",
   "version": "3.9.15"
  },
  "orig_nbformat": 4,
  "vscode": {
   "interpreter": {
    "hash": "067f9426a8b6842f0df887cb3113c2615b17e4966b28314b1f1f82ac8992a99a"
   }
  }
 },
 "nbformat": 4,
 "nbformat_minor": 2
}
